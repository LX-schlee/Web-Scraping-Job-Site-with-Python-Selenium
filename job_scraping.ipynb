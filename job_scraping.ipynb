{
 "cells": [
  {
   "cell_type": "code",
   "execution_count": 1,
   "metadata": {},
   "outputs": [],
   "source": [
    "from selenium import webdriver\n",
    "import time\n",
    "from selenium.webdriver.support.select import Select"
   ]
  },
  {
   "cell_type": "code",
   "execution_count": 2,
   "metadata": {},
   "outputs": [],
   "source": [
    "with open('job_scraping_multipe_pages.csv', 'w') as file:\n",
    "    file.write(\"Job_title; Location; Salary; Contract_type; Job_description \\n\")\n",
    "    \n",
    "\n",
    "driver=webdriver.Chrome(executable_path='C:\\webdrivers\\chromedriver.exe')\n",
    "\n",
    "driver.get('https://www.jobsite.co.uk/')\n",
    "\n",
    "driver.maximize_window()\n",
    "time.sleep(1)\n",
    "\n",
    "cookie= driver.find_element_by_xpath('//button[@class=\"accept-button-new\"]')\n",
    "try:\n",
    "    cookie.click()\n",
    "except:\n",
    "    pass \n",
    "\n",
    "job_title=driver.find_element_by_id('keywords')\n",
    "job_title.click()\n",
    "job_title.send_keys('Software Engineer')\n",
    "time.sleep(1)\n",
    "\n",
    "location=driver.find_element_by_id('location')\n",
    "location.click()\n",
    "location.send_keys('Manchester')\n",
    "time.sleep(1)\n",
    "\n",
    "dropdown=driver.find_element_by_id('Radius')\n",
    "radius=Select(dropdown)\n",
    "radius.select_by_visible_text('30 miles')\n",
    "time.sleep(1)\n",
    "\n",
    "search=driver.find_element_by_xpath('//input[@value=\"Search\"]')\n",
    "search.click()\n",
    "time.sleep(2)\n",
    "\n",
    "for k in range(3):\n",
    "    titles=driver.find_elements_by_xpath('//div[@class=\"job-title\"]/a/h2')\n",
    "    location=driver.find_elements_by_xpath('//li[@class=\"location\"]/span')\n",
    "    salary=driver.find_elements_by_xpath('//li[@title=\"salary\"]')\n",
    "    contract_type=driver.find_elements_by_xpath('//li[@class=\"job-type\"]/span')\n",
    "    job_details=driver.find_elements_by_xpath('//div[@title=\"job details\"]/p')\n",
    "\n",
    "    with open('job_scraping_multipe_pages.csv', 'a') as file:\n",
    "        for i in range(len(titles)):\n",
    "            file.write(titles[i].text + \";\" + location[i].text + \";\" + salary[i].text + \";\" + contract_type[i].text + \";\"+\n",
    "                      job_details[i].text + \"\\n\")\n",
    "\n",
    "        next=driver.find_element_by_xpath('//a[@aria-label=\"Next\"]')\n",
    "        next.click()\n",
    "    file.close()\n",
    "driver.close()"
   ]
  }
 ],
 "metadata": {
  "kernelspec": {
   "display_name": "Python 3",
   "language": "python",
   "name": "python3"
  },
  "language_info": {
   "codemirror_mode": {
    "name": "ipython",
    "version": 3
   },
   "file_extension": ".py",
   "mimetype": "text/x-python",
   "name": "python",
   "nbconvert_exporter": "python",
   "pygments_lexer": "ipython3",
   "version": "3.9.0"
  }
 },
 "nbformat": 4,
 "nbformat_minor": 4
}
